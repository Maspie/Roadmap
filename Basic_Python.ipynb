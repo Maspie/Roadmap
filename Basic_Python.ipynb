{
  "nbformat": 4,
  "nbformat_minor": 0,
  "metadata": {
    "colab": {
      "provenance": [],
      "authorship_tag": "ABX9TyMU+2rxC2nwig1J587yhVfS",
      "include_colab_link": true
    },
    "kernelspec": {
      "name": "python3",
      "display_name": "Python 3"
    },
    "language_info": {
      "name": "python"
    }
  },
  "cells": [
    {
      "cell_type": "markdown",
      "metadata": {
        "id": "view-in-github",
        "colab_type": "text"
      },
      "source": [
        "<a href=\"https://colab.research.google.com/github/Maspie/Roadmap/blob/main/Basic_Python.ipynb\" target=\"_parent\"><img src=\"https://colab.research.google.com/assets/colab-badge.svg\" alt=\"Open In Colab\"/></a>"
      ]
    },
    {
      "cell_type": "markdown",
      "source": [
        "Lists: Ordered, mutable, and can hold multiple data types.\n",
        "\n",
        "Tuples: Ordered, immutable, and faster than lists.\n",
        "\n",
        "Dictionaries: Key-value pairs, useful for structured data.\n",
        "\n",
        "Sets: Unordered, unique elements, great for eliminating duplicates."
      ],
      "metadata": {
        "id": "yXTCrZt7N5fp"
      }
    },
    {
      "cell_type": "code",
      "execution_count": 1,
      "metadata": {
        "colab": {
          "base_uri": "https://localhost:8080/"
        },
        "id": "RaHQZgzdNrxq",
        "outputId": "e7b63615-fb28-434a-dac4-eb2f406d3565"
      },
      "outputs": [
        {
          "output_type": "stream",
          "name": "stdout",
          "text": [
            "[1, 1, 1, 1, 1, 3, 1, 1, 1, 5, 5, 5, 5, 7, 9]\n",
            "{'Stu1': 20, 'Stu2': 30, 'Stu3': 40, 'Stu4': 50}\n",
            "{1, 3, 5, 7, 9}\n"
          ]
        }
      ],
      "source": [
        "# Create a list of numbers from 1 to 10, remove even numbers, and print the result.\n",
        "\n",
        "listt = [1,2,1,1,1,1,3,1,1,1,5,5,5,4,5,6,7,8,9,10]\n",
        "\n",
        "for i in listt[:]:     # important to make copy of list if adding or removing elements\n",
        "  if(i % 2 == 0):\n",
        "    listt.remove(i)\n",
        "\n",
        "print(listt)\n",
        "\n",
        "\n",
        "\n",
        "# Write a dictionary with student names as keys and scores as values. Add another student.\n",
        "\n",
        "\n",
        "dictionary = { \"Stu1\" : 20, \"Stu2\" : 30, \"Stu3\" : 40}\n",
        "\n",
        "dictionary[\"Stu4\"] = 50\n",
        "\n",
        "print(dictionary)\n",
        "\n",
        "\n",
        "\n",
        "# Convert a list with duplicate values into a set to remove duplicates. (because set has no duplicates)\n",
        "\n",
        "sets = set(listt)\n",
        "print(sets)\n",
        "\n",
        "\n",
        "\n"
      ]
    },
    {
      "cell_type": "markdown",
      "source": [
        "For Loop: Iterate over sequences (lists, tuples, dictionaries).\n",
        "\n",
        "While Loop: Repeat until a condition is met."
      ],
      "metadata": {
        "id": "WZSXq217M3eG"
      }
    },
    {
      "cell_type": "code",
      "source": [
        "# Write a loop that prints the squares of numbers from 1 to 10.\n",
        "\n",
        "for number in range(1,11):\n",
        "  print(i*i)\n",
        "  i += 1\n",
        "\n",
        "\n",
        "\n",
        "# Use a while loop to keep asking the user for input until they type \"exit\".\n",
        "inputs = input(\" Keep going or type 'exit' to exit \")\n",
        "while( inputs != \"exit\"):\n",
        "  inputs = input(\" Keep going or type 'exit' to exit \")\n",
        ""
      ],
      "metadata": {
        "colab": {
          "base_uri": "https://localhost:8080/"
        },
        "id": "alTtdy3R6dLh",
        "outputId": "4f509391-bdf0-4d52-db62-7277612957d7"
      },
      "execution_count": 2,
      "outputs": [
        {
          "name": "stdout",
          "output_type": "stream",
          "text": [
            "100\n",
            "121\n",
            "144\n",
            "169\n",
            "196\n",
            "225\n",
            "256\n",
            "289\n",
            "324\n",
            "361\n",
            " Keep going or type 'exit' to exit exit\n"
          ]
        }
      ]
    },
    {
      "cell_type": "markdown",
      "source": [
        "if, elif, else: Used to execute different code based on conditions.\n"
      ],
      "metadata": {
        "id": "3EMwVuAiWf7l"
      }
    },
    {
      "cell_type": "code",
      "source": [
        "#Write a program that takes a number as input and prints whether it’s odd or even.\n",
        "\n",
        "\n",
        "x = input(\"Enter any number\")\n",
        "\n",
        "if( int(x) % 2 == 0):\n",
        "  print(\"Even\")\n",
        "else:\n",
        "  print(\"Odd\")\n",
        "\n",
        "\n",
        "# Create a program to categorize a score:\n",
        "# 90+: \"Excellent\"\n",
        "# 70-89: \"Good\"\n",
        "# Below 70: \"Needs Improvement\".\n",
        "\n",
        "score = input(\"Enter score\")\n",
        "\n",
        "if (int(score)>= 90):\n",
        "  print(\"Excellent\")\n",
        "elif (int(score) >= 70):\n",
        "  print(\"Good\")\n",
        "else:\n",
        "  print(\"Needs Improvement\")"
      ],
      "metadata": {
        "colab": {
          "base_uri": "https://localhost:8080/"
        },
        "id": "YIV5GncKPAwJ",
        "outputId": "f5b165e7-c533-433a-c35c-28077ddd2f3d"
      },
      "execution_count": 3,
      "outputs": [
        {
          "output_type": "stream",
          "name": "stdout",
          "text": [
            "Enter any number34\n",
            "Even\n",
            "Enter score45\n",
            "Needs Improvement\n"
          ]
        }
      ]
    },
    {
      "cell_type": "markdown",
      "source": [
        "List Comprehensions\n",
        "\n",
        "A concise way to create lists by looping."
      ],
      "metadata": {
        "id": "9rYwjKJQsiBC"
      }
    },
    {
      "cell_type": "code",
      "source": [
        "# Create a list of cubes for numbers 1 to 10 using list comprehension.\n",
        "\n",
        "cube = [ x**3 for x in range(1,11)]\n",
        "print(cube)\n",
        "\n",
        "\n",
        "# Write a list comprehension to extract words longer than 3 characters from a list of words.\n",
        "\n",
        "words = [\"this\", \"is\", \"a\", \"list\", \"of\", \"words\"]\n",
        "\n",
        "extract = [ x for x in words if len(x) > 3]\n",
        "\n",
        "print(extract)"
      ],
      "metadata": {
        "colab": {
          "base_uri": "https://localhost:8080/"
        },
        "id": "NlGcTdCzqFOe",
        "outputId": "baff3261-8586-4bab-88c8-b2e863a2d135"
      },
      "execution_count": 4,
      "outputs": [
        {
          "output_type": "stream",
          "name": "stdout",
          "text": [
            "[1, 8, 27, 64, 125, 216, 343, 512, 729, 1000]\n",
            "['this', 'list', 'words']\n"
          ]
        }
      ]
    },
    {
      "cell_type": "markdown",
      "source": [
        "Functions - Reusable blocks of code, Parameters and return values."
      ],
      "metadata": {
        "id": "7VsVZI2hvyu7"
      }
    },
    {
      "cell_type": "code",
      "source": [
        "# Write a function to calculate the factorial of a number.\n",
        "\n",
        "def factorial(x):\n",
        "\n",
        "  if x == 0 or x == 1:\n",
        "    return 1\n",
        "  else:\n",
        "    return x * factorial(x-1)\n",
        "\n",
        "print(factorial(6))\n",
        "\n",
        "\n",
        "\n",
        "\n",
        "# Create a function that takes a list of numbers and returns only the even numbers.\n",
        "lis = [1,2,3,4,5,6,7,8,9]\n",
        "\n",
        "def even(num):\n",
        "  newlis = [ n for n in num if n%2 == 0]\n",
        "  return newlis\n",
        "print(even(lis))"
      ],
      "metadata": {
        "colab": {
          "base_uri": "https://localhost:8080/"
        },
        "id": "mC2ProK1t4i7",
        "outputId": "bf4a2d56-a8d3-4281-d95b-87f753af4da6"
      },
      "execution_count": 5,
      "outputs": [
        {
          "output_type": "stream",
          "name": "stdout",
          "text": [
            "720\n",
            "[2, 4, 6, 8]\n"
          ]
        }
      ]
    },
    {
      "cell_type": "markdown",
      "source": [
        "Lambda functions: Anonymous, inline functions, Useful for small, one-line operations.\n",
        "\n",
        "LAMBDA ARGUMENTS: EXPRESSION"
      ],
      "metadata": {
        "id": "4EfDPgNMYyb8"
      }
    },
    {
      "cell_type": "code",
      "source": [
        "# square\n",
        "square = lambda x: x**2\n",
        "print(square(2))\n",
        "\n",
        "#add\n",
        "\n",
        "add = lambda a, b: a + b\n",
        "print(add(3,4))"
      ],
      "metadata": {
        "colab": {
          "base_uri": "https://localhost:8080/"
        },
        "id": "ZWP3P2ENM8_4",
        "outputId": "1628d00c-7b73-4006-9b96-1df86525a91c"
      },
      "execution_count": 6,
      "outputs": [
        {
          "output_type": "stream",
          "name": "stdout",
          "text": [
            "4\n",
            "7\n"
          ]
        }
      ]
    },
    {
      "cell_type": "code",
      "source": [
        "#Functions to use with lambda\n",
        "\n",
        "#Map function - Helps to access all elements of a list\n",
        "\n",
        "mapped = list(map(lambda x: x*x, lis))\n",
        "print(mapped)\n",
        "\n",
        "#Filter function -  Helps to filter elements in the list\n",
        "\n",
        "filtered = list(filter(lambda x: x%3 == 0, lis))\n",
        "print(filtered)\n",
        "\n",
        "#sorting\n",
        "\n",
        "sorted = sorted(dictionary.items(), key = lambda x: x[0], reverse = True)\n",
        "print(sorted)"
      ],
      "metadata": {
        "colab": {
          "base_uri": "https://localhost:8080/"
        },
        "id": "dI6ZSB31e5c0",
        "outputId": "e22590d8-9d54-4914-8e4e-880f8d0f04a0"
      },
      "execution_count": 7,
      "outputs": [
        {
          "output_type": "stream",
          "name": "stdout",
          "text": [
            "[1, 4, 9, 16, 25, 36, 49, 64, 81]\n",
            "[3, 6, 9]\n",
            "[('Stu4', 50), ('Stu3', 40), ('Stu2', 30), ('Stu1', 20)]\n"
          ]
        }
      ]
    }
  ]
}